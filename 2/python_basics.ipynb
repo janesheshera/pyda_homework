{
 "cells": [
  {
   "cell_type": "markdown",
   "metadata": {},
   "source": [
    "**Задание 1**. Даны 2 строки: *long_phrase* и *short_phrase*. \n",
    "Напишите код, который проверяет действительно ли длинная фраза *long_phrase* длиннее короткой *short_phrase*. И выводит *True* или *False* в зависимости от результата сравнения."
   ]
  },
  {
   "cell_type": "code",
   "execution_count": null,
   "metadata": {},
   "outputs": [],
   "source": [
    "long_phrase = 'Насколько проще было бы писать программы, если бы не заказчики'\n",
    "short_phrase = '640Кб должно хватить для любых задач. Билл Гейтс (по легенде)'"
   ]
  },
  {
   "cell_type": "code",
   "execution_count": 7,
   "metadata": {},
   "outputs": [
    {
     "name": "stdout",
     "output_type": "stream",
     "text": [
      "True\n",
      "62\n",
      "61\n"
     ]
    }
   ],
   "source": [
    "long_phrase = 'Насколько проще было бы писать программы, если бы не заказчики'\n",
    "short_phrase = '640Кб должно хватить для любых задач. Билл Гейтс (по легенде)'\n",
    "print(len(long_phrase) > len(short_phrase))\n",
    "print(len(long_phrase))\n",
    "print(len(short_phrase))"
   ]
  },
  {
   "cell_type": "markdown",
   "metadata": {},
   "source": [
    "**Задание 2**. Дано значение объема файла в байтах (*в мегабайте 2^20 байт*). Напишите перевод этого значения в мегабайты в формате: \"*Объем файла равен 213.68Mb*\"."
   ]
  },
  {
   "cell_type": "code",
   "execution_count": 33,
   "metadata": {},
   "outputs": [
    {
     "name": "stdout",
     "output_type": "stream",
     "text": [
      "Введите значение объема файла в байтах:8858585\n",
      "Объем файла равен 8.45 Mb\n"
     ]
    }
   ],
   "source": [
    "x = int(input('Введите значение объема файла в байтах:'))\n",
    "\n",
    "if x >= 0:\n",
    "    print(\"Объем файла равен\", round(x/(2**20), 2), \"Mb\")\n",
    "else:\n",
    "    print('Вы ввели отрицательное значение, но если хотите, то объем файла =', round(x/(2**20), 2), \"Mb\")\n"
   ]
  },
  {
   "cell_type": "markdown",
   "metadata": {},
   "source": [
    "**Задание 3**. Разработать приложение для определения знака зодиака по дате рождения. Пример:\n",
    "\n",
    "Введите месяц: март\n",
    "\n",
    "Введите число: 6\n",
    "\n",
    "Вывод:\n",
    "Рыбы"
   ]
  },
  {
   "cell_type": "code",
   "execution_count": 7,
   "metadata": {},
   "outputs": [
    {
     "name": "stdout",
     "output_type": "stream",
     "text": [
      "Введите месяц:декабрь\n",
      "Введите число:30\n",
      "Вывод: Козерог\n"
     ]
    }
   ],
   "source": [
    "month = str(input('Введите месяц:'))\n",
    "date = int(input('Введите число:'))\n",
    "\n",
    "if (month == 'февраль' and 29 > date >= 19) or (month == 'март' and 1 <= date <= 20):\n",
    "    print('Вывод: Рыбы')\n",
    "elif (month == 'март' and 31 > date >= 21) or (month == 'апрель' and  1 <= date <= 19):\n",
    "    print('Вывод: Овен')\n",
    "elif (month == 'апрель' and 30 > date >= 20) or (month == 'май' and  1 <= date <= 20):\n",
    "    print('Вывод: Телец')\n",
    "elif (month == 'май' and 31 > date >= 21) or (month == 'июнь' and  1 <= date <= 21):\n",
    "    print('Вывод: Близнецы')\n",
    "elif (month == 'июнь' and 30 > date >= 22) or (month == 'июль' and  1 <= date <= 22):\n",
    "    print('Вывод: Рак')\n",
    "elif (month == 'июль' and 31 > date >= 23) or (month == 'август' and  1 <= date <= 22):\n",
    "    print('Вывод: Лев')\n",
    "elif (month == 'август' and 31 > date >= 23) or (month == 'сентябрь' and  1 <= date <= 22): \n",
    "    print('Вывод: Дева')\n",
    "elif (month == 'сентябрь' and 30 > date >= 23) or (month == 'октябрь' and  1 <= date <= 22):\n",
    "    print('Вывод: Весы')\n",
    "elif (month == 'октябрь' and 31 > date >= 23) or (month == 'ноябрь' and  1 <= date <= 21):\n",
    "    print('Вывод: Скорпион')\n",
    "elif (month == 'ноябрь' and 30 > date >= 22) or (month == 'декабрь' and  1 <= date <= 21):\n",
    "    print('Вывод: Стрелец')\n",
    "elif (month == 'декабрь' and 31 > date >= 22) or (month == 'январь' and  1 <= date <= 19):\n",
    "    print('Вывод: Козерог')\n",
    "elif (month == 'январь' and 31 > date >= 20) or (month == 'февраль' and  1 <= date <= 18):\n",
    "    print('Вывод: Водолей')    \n",
    "else: print('Неверная дата!')\n",
    "\n",
    "\n"
   ]
  },
  {
   "cell_type": "markdown",
   "metadata": {},
   "source": [
    "**Задание 4**. Нужно разработать приложение для финансового планирования.\n",
    "Приложение учитывает сколько уходит на ипотеку, \"на жизнь\" и сколько нужно отложить на пенсию.\n",
    "Пользователь вводит:\n",
    "- заработанную плату в месяц.\n",
    "- сколько процентов от ЗП уходит на ипотеку.\n",
    "- сколько процентов от ЗП уходит \"на жизнь\".\n",
    "- сколько раз приходит премия в год.\n",
    "\n",
    "Остальная часть заработанной платы откладывается на пенсию.\n",
    "\n",
    "Также пользователю приходит премия в размере зарплаты, от которой половина уходит на отпуск, а вторая половина откладывается.\n",
    "\n",
    "Программа должна учитывать сколько премий было в год.\n",
    "\n",
    "Нужно вывести сколько денег тратит пользователь на ипотеку и сколько он накопит за год.\n",
    "\n",
    "Пример:\n",
    "\n",
    "Введите заработанную плату в месяц: 100000\n",
    "\n",
    "Введите сколько процентов уходит на ипотеку: 30\n",
    "\n",
    "Введите сколько процентов уходит на жизнь: 50\n",
    "\n",
    "Введите количество премий за год: 2\n",
    "\n",
    "Вывод:\n",
    "На ипотеку было потрачено: 360000 рублей\n",
    "Было накоплено: 340000 рублей"
   ]
  },
  {
   "cell_type": "code",
   "execution_count": 8,
   "metadata": {},
   "outputs": [
    {
     "name": "stdout",
     "output_type": "stream",
     "text": [
      "Введите заработанную плату в месяц:100000\n",
      "Введите сколько процентов уходит на ипотеку:30\n",
      "Введите сколько процентов уходит на жизнь:50\n",
      "Введите количество премий за год:2\n",
      "Вывод: На ипотеку было потрачено: 360000.0 рублей\n",
      "Было накоплено: 340000.0 рублей\n"
     ]
    }
   ],
   "source": [
    "month_salary = int(input('Введите заработанную плату в месяц:'))\n",
    "salary_hypothec_procent = int(input('Введите сколько процентов уходит на ипотеку:'))\n",
    "salary_life_procent = int(input('Введите сколько процентов уходит на жизнь:'))\n",
    "premium_per_year = int(input('Введите количество премий за год:'))\n",
    "\n",
    "pension_month_saving = month_salary - month_salary * salary_hypothec_procent/100 - month_salary * salary_life_procent/100\n",
    "vacation = 0.5 * month_salary\n",
    "savings = 0.5 * month_salary\n",
    "\n",
    "hypothec_spending = 12 * month_salary * salary_hypothec_procent/100\n",
    "total_savings = premium_per_year * 0.5 * month_salary + 12 * pension_month_saving\n",
    "\n",
    "print('Вывод: На ипотеку было потрачено:', hypothec_spending, 'рублей')\n",
    "print('Было накоплено:', total_savings, 'рублей')\n"
   ]
  },
  {
   "cell_type": "code",
   "execution_count": null,
   "metadata": {},
   "outputs": [],
   "source": []
  },
  {
   "cell_type": "code",
   "execution_count": null,
   "metadata": {},
   "outputs": [],
   "source": []
  }
 ],
 "metadata": {
  "kernelspec": {
   "display_name": "Python 3",
   "language": "python",
   "name": "python3"
  },
  "language_info": {
   "codemirror_mode": {
    "name": "ipython",
    "version": 3
   },
   "file_extension": ".py",
   "mimetype": "text/x-python",
   "name": "python",
   "nbconvert_exporter": "python",
   "pygments_lexer": "ipython3",
   "version": "3.7.6"
  }
 },
 "nbformat": 4,
 "nbformat_minor": 2
}

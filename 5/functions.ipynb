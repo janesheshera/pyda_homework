{
 "cells": [
  {
   "cell_type": "markdown",
   "metadata": {},
   "source": [
    "Вы работаете секретарем и вам постоянно приходят различные документы. Вы должны быть очень внимательны, чтобы не потерять ни один документ. Каталог документов хранится в следующем виде:"
   ]
  },
  {
   "cell_type": "code",
   "execution_count": 1,
   "metadata": {},
   "outputs": [],
   "source": [
    "documents = [\n",
    "    {'type': 'passport', 'number': '2207 876234', 'name': 'Василий Гупкин'},\n",
    "    {'type': 'invoice', 'number': '11-2', 'name': 'Геннадий Покемонов'},\n",
    "    {'type': 'insurance', 'number': '10006', 'name': 'Аристарх Павлов'}\n",
    "]"
   ]
  },
  {
   "cell_type": "markdown",
   "metadata": {},
   "source": [
    "Перечень полок, на которых находятся документы хранится в следующем виде:"
   ]
  },
  {
   "cell_type": "code",
   "execution_count": 18,
   "metadata": {},
   "outputs": [],
   "source": [
    "directories = {\n",
    "    '1': ['2207 876234', '11-2'],\n",
    "    '2': ['10006'],\n",
    "    '3': []\n",
    "}"
   ]
  },
  {
   "cell_type": "code",
   "execution_count": 3,
   "metadata": {},
   "outputs": [],
   "source": [
    "def people (number):\n",
    "    '''\n",
    "    Возвращает имя по номеру документу.\n",
    "    '''\n",
    "    for line in documents:\n",
    "        if number == line['number']:\n",
    "            result = line['name']\n",
    "    return result\n",
    "\n",
    "# people('2207 876234')"
   ]
  },
  {
   "cell_type": "code",
   "execution_count": 4,
   "metadata": {},
   "outputs": [],
   "source": [
    "def shelf (document_number):\n",
    "    '''\n",
    "    Возвращает номер полки по номеру документа.\n",
    "    '''\n",
    "    for shelf in directories.keys():\n",
    "        if document_number in directories[shelf]:\n",
    "            return shelf\n",
    "    print (\"Несуществующий документ\")\n",
    "    return\n",
    "\n",
    "# shelf('10006')"
   ]
  },
  {
   "cell_type": "code",
   "execution_count": 5,
   "metadata": {},
   "outputs": [],
   "source": [
    "def list():\n",
    "    '''\n",
    "    Выводит списком все документы.\n",
    "    '''\n",
    "    for docs in documents:\n",
    "        print (f'{docs[\"type\"]} \"{docs[\"number\"]}\" \"{docs [\"name\"]}\"')\n",
    "    return   \n",
    "\n",
    "# list()"
   ]
  },
  {
   "cell_type": "code",
   "execution_count": 6,
   "metadata": {},
   "outputs": [],
   "source": [
    "def add_shelf(shelf_number):\n",
    "    '''\n",
    "    Создает новую пустую полку.\n",
    "    '''\n",
    "    for number in directories.keys():\n",
    "        if number == shelf_number:\n",
    "            print(\"Такой номер полки уже существует\")\n",
    "    directories[shelf_number]=[]\n",
    "    return\n",
    "\n",
    "# add_shelf('4')\n",
    "\n",
    "# print(directories)"
   ]
  },
  {
   "cell_type": "code",
   "execution_count": 7,
   "metadata": {},
   "outputs": [],
   "source": [
    "def delete (document_number):\n",
    "    '''\n",
    "    Удаляет документ по номеру документа.\n",
    "    '''\n",
    "    for docs in documents:\n",
    "        if document_number == docs['number']:\n",
    "                del docs['number'], docs['type'], docs['name']\n",
    "    for shelf in directories.values():\n",
    "        if document_number in shelf:\n",
    "            shelf.remove(document_number)\n",
    "    return\n",
    "\n",
    "# delete('2207 87623')\n",
    "\n",
    "# print(directories)\n",
    "# print(documents)"
   ]
  },
  {
   "cell_type": "code",
   "execution_count": 22,
   "metadata": {},
   "outputs": [],
   "source": [
    "def move (document_number, shelf_number):\n",
    "    '''\n",
    "    Удаляет документ со старой полки и добавляет на новую полку.\n",
    "    '''\n",
    "    docs_list = []\n",
    "    for shelf in directories.values():\n",
    "        for doc_number in shelf:\n",
    "            docs_list.append(doc_number)\n",
    "     \n",
    "    if shelf_number not in directories.keys():\n",
    "        print('Несуществующая полка')\n",
    "    elif document_number not in docs_list:\n",
    "        print('Несуществующий документ')\n",
    "        return\n",
    "    else:\n",
    "        for shelf in directories.values():\n",
    "            for values in shelf:\n",
    "                if values == document_number:\n",
    "                    shelf.remove(document_number)\n",
    "        for i, shelf in enumerate(directories.values()):\n",
    "            if i == int(shelf_number) - 1:\n",
    "                shelf.append(document_number)\n",
    "        return\n",
    "    \n",
    "# move('11-2', '3')\n",
    "\n",
    "# print(directories)"
   ]
  },
  {
   "cell_type": "code",
   "execution_count": 13,
   "metadata": {},
   "outputs": [],
   "source": [
    "def add (document_number, type, name, shelf_number):\n",
    "    '''\n",
    "    Добавляет новый документ в каталог и в перечень полок.\n",
    "    '''\n",
    "    if shelf_number in directories.keys():\n",
    "        directories[shelf_number] = [document_number]\n",
    "        d1 = dict(type = type, number = document_number, name = name)\n",
    "        documents.append(d1)\n",
    "    else:\n",
    "        print(\"Несуществующая полка\")\n",
    "        return\n",
    "\n",
    "# add ('7467949', 'bank_card', 'vasiliy ivanov', '4')\n",
    "\n",
    "# print(documents)\n",
    "# print(directories)"
   ]
  },
  {
   "cell_type": "code",
   "execution_count": null,
   "metadata": {},
   "outputs": [
    {
     "name": "stdout",
     "output_type": "stream",
     "text": [
      "Введите командуl\n",
      "passport \"2207 876234\" \"Василий Гупкин\"\n",
      "invoice \"11-2\" \"Геннадий Покемонов\"\n",
      "insurance \"10006\" \"Аристарх Павлов\"\n",
      "uuu \"44544\" \"art\"\n",
      "bbbb \"ddddd\" \"art3\"\n",
      "Введите командуs\n",
      "Введите номер документа10006\n",
      "Полка № 2\n",
      "Введите командуm\n",
      "Введите номер документа10006\n",
      "Введите номер полки для перемещения3\n",
      "{'1': ['2207 876234'], '2': [], '3': ['11-2', '10006']}\n",
      "Введите командуm\n",
      "Введите номер документа10006\n",
      "Введите номер полки для перемещения2\n",
      "{'1': ['2207 876234'], '2': ['10006'], '3': ['11-2']}\n",
      "Введите командуm\n",
      "Введите номер документа5555\n",
      "Введите номер полки для перемещения3\n",
      "Несуществующий документ\n",
      "{'1': ['2207 876234'], '2': ['10006'], '3': ['11-2']}\n"
     ]
    }
   ],
   "source": [
    "def main ():\n",
    "    while True:\n",
    "        user_input = input('Введите команду')\n",
    "        if user_input == 'p':\n",
    "            user_input2 = input('Введите номер документа')\n",
    "            print(people (user_input2))\n",
    "        elif user_input == 's':\n",
    "            user_input2 = input('Введите номер документа')\n",
    "            print(\"Полка №\", shelf (user_input2))\n",
    "        elif user_input == 'l':\n",
    "            list()\n",
    "        elif user_input == 'as':\n",
    "            user_input2 = input('Введите номер новой полки')\n",
    "            add_shelf (user_input2)\n",
    "            print(directories)\n",
    "        elif user_input == 'd':\n",
    "            user_input2 = input('Введите номер документа')\n",
    "            delete (user_input2)\n",
    "            print(documents)\n",
    "        elif user_input == 'm':\n",
    "            user_input2 = input('Введите номер документа')\n",
    "            user_input3 = input('Введите номер полки для перемещения')\n",
    "            move (user_input2, user_input3)\n",
    "            print(directories)           \n",
    "        elif user_input == 'a':\n",
    "            user_input2 = input('Введите номер документа')\n",
    "            user_input3 = input('Введите тип документа')\n",
    "            user_input4 = input('Введите имя владельца')\n",
    "            user_input5 = input('Введите номер полки')\n",
    "            add (user_input2, user_input3, user_input4, user_input5)              \n",
    "        elif user_input == 'q':\n",
    "            print('До свидания')\n",
    "            break\n",
    "\n",
    "main()"
   ]
  },
  {
   "cell_type": "markdown",
   "metadata": {},
   "source": [
    "### Необходимо реализовать пользовательские команды (внимание! это не название функций, которые должны быть выразительными, а команды, которые вводит пользователь, чтобы получить необходимый результат):\n",
    "  \n",
    "- p – people – команда, которая спросит номер документа и выведет имя человека, которому он принадлежит;  \n",
    "- s – shelf – команда, которая спросит номер документа и выведет номер полки, на которой он находится  \n",
    "*Правильно обработайте ситуации, когд3а пользователь будет вводить несуществующий документ*.\n",
    "- l – list – команда, которая выведет список всех документов в формате   \n",
    "**passport \"2207 876234\" \"Василий Гупкин\"**  \n",
    "- as – add shelf – команда, которая спросит номер новой полки и добавит ее в перечень. *Предусмотрите случай, когда пользователь добавляет полку, которая уже существует*.\n",
    "- d – delete – команда, которая спросит номер документа и удалит его из каталога и из перечня полок. *Предусмотрите сценарий, когда пользователь вводит несуществующий документ*;  \n",
    "- m – move – команда, которая спросит номер документа и целевую полку и переместит его с текущей полки на целевую. *Корректно обработайте кейсы, когда пользователь пытается переместить несуществующий документ или переместить документ на несуществующую полку*;  \n",
    "- a – add – команда, которая добавит новый документ в каталог и в перечень полок, спросив его номер, тип, имя владельца и номер полки, на котором он будет храниться. *Корректно обработайте ситуацию, когда пользователь будет пытаться добавить документ на несуществующую полку*."
   ]
  }
 ],
 "metadata": {
  "kernelspec": {
   "display_name": "Python 3",
   "language": "python",
   "name": "python3"
  },
  "language_info": {
   "codemirror_mode": {
    "name": "ipython",
    "version": 3
   },
   "file_extension": ".py",
   "mimetype": "text/x-python",
   "name": "python",
   "nbconvert_exporter": "python",
   "pygments_lexer": "ipython3",
   "version": "3.7.6"
  }
 },
 "nbformat": 4,
 "nbformat_minor": 2
}
